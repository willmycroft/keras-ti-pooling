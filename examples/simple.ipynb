{
 "cells": [
  {
   "cell_type": "markdown",
   "metadata": {},
   "source": [
    "## A comparison of data augmentation and transformation invariance on a simple data set."
   ]
  },
  {
   "cell_type": "code",
   "execution_count": 1,
   "metadata": {},
   "outputs": [
    {
     "name": "stderr",
     "output_type": "stream",
     "text": [
      "Using TensorFlow backend.\n"
     ]
    }
   ],
   "source": [
    "import numpy as np\n",
    "from keras.models import Sequential, Model;\n",
    "from keras.layers import Dense\n",
    "from keras.initializers import RandomNormal\n",
    "import matplotlib.pyplot as plt\n",
    "import time\n",
    "%matplotlib inline\n",
    "\n",
    "from ti_pooling import transformation_invariant\n",
    "from ti_pooling.transformations import SymmetricGroup"
   ]
  },
  {
   "cell_type": "code",
   "execution_count": 2,
   "metadata": {
    "collapsed": true,
    "scrolled": true
   },
   "outputs": [],
   "source": [
    "N = 10000\n",
    "hidden_units = 10\n",
    "epochs = 25\n",
    "eps = 1.0\n",
    "seed = 1"
   ]
  },
  {
   "cell_type": "markdown",
   "metadata": {},
   "source": [
    "Generate data sampled from a 3D gaussian and apply the function $f(x_1, x_2, x_3) = \\max(x_1, x_2, x_3)$ perturbed by some gaussian noise."
   ]
  },
  {
   "cell_type": "code",
   "execution_count": 3,
   "metadata": {
    "collapsed": true
   },
   "outputs": [],
   "source": [
    "np.random.seed(seed)\n",
    "X = np.random.normal(size=3*N).reshape(N,3)\n",
    "y = X.max(axis=1) + np.random.normal(scale=eps, size=N)"
   ]
  },
  {
   "cell_type": "markdown",
   "metadata": {},
   "source": [
    "Try to learn the function $f$ via a vanilla neural networked with 10 hidden units."
   ]
  },
  {
   "cell_type": "code",
   "execution_count": 4,
   "metadata": {},
   "outputs": [
    {
     "name": "stdout",
     "output_type": "stream",
     "text": [
      "Training time: 6.393365383148193\n",
      "Performance: 1.0161263989448548\n"
     ]
    }
   ],
   "source": [
    "np.random.seed(seed)\n",
    "vanilla = Sequential()\n",
    "vanilla.add(Dense(hidden_units, activation='relu', input_shape=X.shape[1:]))\n",
    "vanilla.add(Dense(1, activation='linear'))\n",
    "vanilla.compile(loss='mse', optimizer='adam')\n",
    "tic = time.time()\n",
    "vanilla_hist = vanilla.fit(X, y, epochs=epochs, verbose=0)\n",
    "vanilla_time = time.time() - tic\n",
    "print('Training time:', vanilla_time)\n",
    "print('Performance:', vanilla.evaluate(X, y, verbose=0))"
   ]
  },
  {
   "cell_type": "markdown",
   "metadata": {},
   "source": [
    "Using our domain knowledge or information obtained from data expoloration, we may expect that our function $f$ is invariant under permutation of the input features. Equivalently, $f$ is invariant under the action of the symmetric group $S_3$ in the sense that $f(x_1, x_2, x_3) = f(x_{1\\sigma}, x_{2\\sigma}, x_{3\\sigma})$ for all $\\sigma \\in S_3$."
   ]
  },
  {
   "cell_type": "code",
   "execution_count": 5,
   "metadata": {},
   "outputs": [
    {
     "name": "stdout",
     "output_type": "stream",
     "text": [
      "Transformations of (1, 2, 3) under the action of S3: [(1, 2, 3), (1, 3, 2), (2, 1, 3), (2, 3, 1), (3, 1, 2), (3, 2, 1)]\n"
     ]
    }
   ],
   "source": [
    "s3 = SymmetricGroup()\n",
    "print('Transformations of (1, 2, 3) under the action of S3:', [tuple(x[0]) for x in s3.transform(np.array([[1,2,3]]))])"
   ]
  },
  {
   "cell_type": "markdown",
   "metadata": {},
   "source": [
    "A common trick for helping neural networks learn such invariances is *data augmentation*: training our network on all transformations of the original feature set. We now train the same vanilla neural network on this augmented data set."
   ]
  },
  {
   "cell_type": "code",
   "execution_count": 6,
   "metadata": {},
   "outputs": [
    {
     "name": "stdout",
     "output_type": "stream",
     "text": [
      "Training time: 37.11271262168884\n",
      "Performance: 1.0135574721336365\n"
     ]
    }
   ],
   "source": [
    "np.random.seed(seed)\n",
    "aug_X = np.vstack(s3.transform(X))\n",
    "aug_y = np.tile(y, s3.num_transformations(X.shape[1:]))\n",
    "augmented = Sequential()\n",
    "augmented.add(Dense(hidden_units, activation='relu', input_shape=X.shape[1:]))\n",
    "augmented.add(Dense(1, activation='linear'))\n",
    "augmented.compile(loss='mse', optimizer='adam')\n",
    "tic = time.time()\n",
    "augmented_hist = augmented.fit(aug_X, aug_y, epochs=epochs, verbose=0)\n",
    "augmented_time = time.time() - tic\n",
    "print('Training time:', augmented_time)\n",
    "print('Performance:', augmented.evaluate(X, y, verbose=0))"
   ]
  },
  {
   "cell_type": "markdown",
   "metadata": {},
   "source": [
    "A more sophisicated approach is to implement a *transformation-invariant pooling layer* across a set of siamese networks."
   ]
  },
  {
   "cell_type": "code",
   "execution_count": 7,
   "metadata": {},
   "outputs": [
    {
     "name": "stdout",
     "output_type": "stream",
     "text": [
      "Training time: 9.659552335739136\n",
      "Performance: 1.0041161907196046\n"
     ]
    }
   ],
   "source": [
    "np.random.seed(seed)\n",
    "network = Sequential()\n",
    "network.add(Dense(hidden_units, activation='relu', input_shape=X.shape[1:]))\n",
    "network.add(Dense(1, activation='linear'))\n",
    "inputs, output = transformation_invariant(network, s3)\n",
    "ti_network = Model(inputs=inputs, outputs=output)\n",
    "ti_network.compile(loss='mse', optimizer='adam')\n",
    "tic = time.time()\n",
    "ti_network_hist = ti_network.fit(s3.transform(X), y, epochs=epochs, verbose=0)\n",
    "ti_network_time = time.time() - tic\n",
    "print('Training time:', ti_network_time)\n",
    "print('Performance:', ti_network.evaluate(s3.transform(X), y, verbose=0))"
   ]
  },
  {
   "cell_type": "markdown",
   "metadata": {},
   "source": [
    "Graphing the MSE loss of our networks per epoch, we see that all three networks eventually approach the Bayes' error. However, the network trained on the augmented data and the transformation invariant network converge a lot faster than the vanilla network. If we plot the loss against the training time rather than the epoch, we see the transformation invariant network converges the fastest, as the augmented network requires a lot more computational resources."
   ]
  },
  {
   "cell_type": "code",
   "execution_count": 8,
   "metadata": {},
   "outputs": [
    {
     "data": {
      "image/png": "[encoded data removed]",
      "text/plain": [
       "<matplotlib.figure.Figure at 0x17b38ef0>"
      ]
     },
     "metadata": {},
     "output_type": "display_data"
    },
    {
     "data": {
      "image/png": "[encoded data removed]",
      "text/plain": [
       "<matplotlib.figure.Figure at 0x17f54e80>"
      ]
     },
     "metadata": {},
     "output_type": "display_data"
    }
   ],
   "source": [
    "plt.figure()\n",
    "plt.plot(vanilla_hist.history['loss'])\n",
    "plt.plot(augmented_hist.history['loss'])\n",
    "plt.plot(ti_network_hist.history['loss'])\n",
    "plt.legend(['Vanilla', 'Augmented', 'Transformation Invariant'])\n",
    "plt.xlabel('Epoch')\n",
    "plt.ylabel('MSE')\n",
    "\n",
    "plt.figure()\n",
    "plt.plot(np.array(vanilla_hist.epoch)*vanilla_time/epochs, vanilla_hist.history['loss'])\n",
    "plt.plot(np.array(augmented_hist.epoch)*augmented_time/epochs, augmented_hist.history['loss'])\n",
    "plt.plot(np.array(ti_network_hist.epoch)*ti_network_time/epochs, ti_network_hist.history['loss'])\n",
    "plt.legend(['Vanilla', 'Augmented', 'Transformation Invariant'])\n",
    "plt.xlabel('Time (s)')\n",
    "plt.ylabel('MSE');"
   ]
  },
  {
   "cell_type": "markdown",
   "metadata": {},
   "source": [
    "Finally, to check we are not overfitting our data set, we check our performance on a test set is close to the Bayes' error."
   ]
  },
  {
   "cell_type": "code",
   "execution_count": 9,
   "metadata": {},
   "outputs": [
    {
     "name": "stdout",
     "output_type": "stream",
     "text": [
      "1.0176131589889525\n",
      "1.0147902126312256\n",
      "1.0072099172592164\n"
     ]
    }
   ],
   "source": [
    "test_seed = 2018 # Need a different seed to avoid getting points in training set\n",
    "np.random.seed(2018) \n",
    "test_N = 10000\n",
    "test_X = np.random.normal(size=3*test_N).reshape(test_N,3)\n",
    "test_y = test_X.max(axis=1) + np.random.normal(scale=eps, size=test_N)\n",
    "print(vanilla.evaluate(test_X, test_y, verbose=0))\n",
    "print(augmented.evaluate(test_X, test_y, verbose=0))\n",
    "print(ti_network.evaluate(s3.transform(test_X), test_y, verbose=0))"
   ]
  }
 ],
 "metadata": {
  "kernelspec": {
   "display_name": "Python 3",
   "language": "python",
   "name": "python3"
  },
  "language_info": {
   "codemirror_mode": {
    "name": "ipython",
    "version": 3
   },
   "file_extension": ".py",
   "mimetype": "text/x-python",
   "name": "python",
   "nbconvert_exporter": "python",
   "pygments_lexer": "ipython3",
   "version": "3.6.4"
  }
 },
 "nbformat": 4,
 "nbformat_minor": 2
}
